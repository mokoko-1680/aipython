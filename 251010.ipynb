{
  "nbformat": 4,
  "nbformat_minor": 0,
  "metadata": {
    "colab": {
      "provenance": []
    },
    "kernelspec": {
      "name": "python3",
      "display_name": "Python 3"
    },
    "language_info": {
      "name": "python"
    }
  },
  "cells": [
    {
      "cell_type": "markdown",
      "source": [
        "---\n",
        "---\n",
        "---\n",
        "**1. 리스트**"
      ],
      "metadata": {
        "id": "T1iO_2VahtP5"
      }
    },
    {
      "cell_type": "code",
      "source": [
        "# 리스트 직접 생성\n",
        "# 리스트에 문자열 넣을 시 '' or \"\" 넣기\n",
        "# 알파벳 대, 소문자 구분하기 -> 아스틱 코드 (나중에 나옴)\n",
        "\n",
        "strlist=['a', 'b', 'c', 'd', 'e']\n",
        "prices = [1000, 2500, 3000, 1500, 5000]\n",
        "nums=[1,2,3,4,5]\n"
      ],
      "metadata": {
        "id": "JENMT8EqjOQD"
      },
      "execution_count": 127,
      "outputs": []
    },
    {
      "cell_type": "code",
      "source": [
        "strlist"
      ],
      "metadata": {
        "colab": {
          "base_uri": "https://localhost:8080/"
        },
        "id": "tcsG669Cl3VC",
        "outputId": "aae38511-8c04-429c-934d-60d21897543c"
      },
      "execution_count": 128,
      "outputs": [
        {
          "output_type": "execute_result",
          "data": {
            "text/plain": [
              "['a', 'b', 'c', 'd', 'e']"
            ]
          },
          "metadata": {},
          "execution_count": 128
        }
      ]
    },
    {
      "cell_type": "code",
      "source": [
        "# len은 list의 길이를 보여줌 / 두개의 list 모두 5개\n",
        "# range 함수는 0부터 시작하고 마지막껀 포함 x\n",
        "for i in range(len(prices)):\n",
        "  prices[i] = prices[i] * 1.05\n",
        "\n",
        "print(prices)\n",
        "\n",
        "for q in range(len(nums)):\n",
        "  nums[q]=nums[q]*2\n",
        "\n",
        "print(nums)"
      ],
      "metadata": {
        "colab": {
          "base_uri": "https://localhost:8080/"
        },
        "id": "qE9k7RDSmMDo",
        "outputId": "e79624d6-f372-4b52-9042-62c75fe3a06e"
      },
      "execution_count": 129,
      "outputs": [
        {
          "output_type": "stream",
          "name": "stdout",
          "text": [
            "[1050.0, 2625.0, 3150.0, 1575.0, 5250.0]\n",
            "[2, 4, 6, 8, 10]\n"
          ]
        }
      ]
    },
    {
      "cell_type": "code",
      "source": [
        "# 리스트는 기본적으로 인덱스를 가지고 있다\n",
        "len(nums)\n",
        "print(len(nums))\n",
        "\n",
        "s=3\n",
        "print(nums[s])"
      ],
      "metadata": {
        "colab": {
          "base_uri": "https://localhost:8080/"
        },
        "id": "zGi__zGJmykx",
        "outputId": "c758f3af-d181-415d-a130-ee64426ff693"
      },
      "execution_count": 130,
      "outputs": [
        {
          "output_type": "stream",
          "name": "stdout",
          "text": [
            "5\n",
            "8\n"
          ]
        }
      ]
    },
    {
      "cell_type": "markdown",
      "source": [
        "\n",
        "\n",
        "---\n",
        "리스트 항목 추가\n"
      ],
      "metadata": {
        "id": "9QHN-WvHmCOR"
      }
    },
    {
      "cell_type": "code",
      "source": [
        "# 빈 리스트 추가\n",
        "empty = []"
      ],
      "metadata": {
        "id": "GH0gMddul-MR"
      },
      "execution_count": 131,
      "outputs": []
    },
    {
      "cell_type": "code",
      "source": [
        "# 빈 리스트에 append 활용해서 item 넣기\n",
        "# 리스트 명 . append(넣을 항목)\n",
        "empty.append('파이썬')\n",
        "empty.append('자바')\n",
        "empty.append('C')\n",
        "\n",
        "empty"
      ],
      "metadata": {
        "colab": {
          "base_uri": "https://localhost:8080/"
        },
        "id": "b3cY4gYFnrdw",
        "outputId": "9ef9a79f-3758-4d28-a904-3a3416921ebb"
      },
      "execution_count": 132,
      "outputs": [
        {
          "output_type": "execute_result",
          "data": {
            "text/plain": [
              "['파이썬', '자바', 'C']"
            ]
          },
          "metadata": {},
          "execution_count": 132
        }
      ]
    },
    {
      "cell_type": "code",
      "source": [
        "# insert() 활용해서 리스트 중간에 항목 넣기\n",
        "# 나머지는 뒤로 밀림\n",
        "# 리스트명.insert(넣을 인덱스, 넣을 항목)\n",
        "empty.insert(2, '자바스크립트')\n",
        "empty"
      ],
      "metadata": {
        "colab": {
          "base_uri": "https://localhost:8080/"
        },
        "id": "kkuRd3zWoXXw",
        "outputId": "704b494a-3226-47b5-c958-80952433778e"
      },
      "execution_count": 133,
      "outputs": [
        {
          "output_type": "execute_result",
          "data": {
            "text/plain": [
              "['파이썬', '자바', '자바스크립트', 'C']"
            ]
          },
          "metadata": {},
          "execution_count": 133
        }
      ]
    },
    {
      "cell_type": "code",
      "source": [
        "# extend로 리스트 뒤에 항목 넣기\n",
        "# () 안에 [] 써줘야함\n",
        "# 리스트명. extend([넣을 요소들])\n",
        "empty.extend(['R', 'C++'])\n",
        "empty"
      ],
      "metadata": {
        "colab": {
          "base_uri": "https://localhost:8080/"
        },
        "id": "34BUPmIKoudx",
        "outputId": "42b7a8f7-1bbb-4099-c51e-d0a2a844e907"
      },
      "execution_count": 134,
      "outputs": [
        {
          "output_type": "execute_result",
          "data": {
            "text/plain": [
              "['파이썬', '자바', '자바스크립트', 'C', 'R', 'C++']"
            ]
          },
          "metadata": {},
          "execution_count": 134
        }
      ]
    },
    {
      "cell_type": "markdown",
      "source": [
        "\n",
        "\n",
        "---\n",
        "리스트 항목 삭제\n"
      ],
      "metadata": {
        "id": "yFdCGe9JpT2Q"
      }
    },
    {
      "cell_type": "code",
      "source": [
        "# pop으로 삭제하기\n",
        "# 지정 안하면 마지막 항목을 삭제 -> 마지막 항목인 C++이 사라짐\n",
        "# 리스트명.pop()\n",
        "empty.pop()\n",
        "empty"
      ],
      "metadata": {
        "colab": {
          "base_uri": "https://localhost:8080/"
        },
        "id": "kk-id8Dto8Xh",
        "outputId": "968b9bd7-923d-487a-ce36-14678a895aaf"
      },
      "execution_count": 135,
      "outputs": [
        {
          "output_type": "execute_result",
          "data": {
            "text/plain": [
              "['파이썬', '자바', '자바스크립트', 'C', 'R']"
            ]
          },
          "metadata": {},
          "execution_count": 135
        }
      ]
    },
    {
      "cell_type": "code",
      "source": [
        "# del로 지정한 항목 삭제\n",
        "# 얘만 특이하게 함수가 제일 앞에 옴\n",
        "# del 리스트명 : 특이하게 '.' 안쓰고 스페이스바\n",
        "del empty[4]\n",
        "empty"
      ],
      "metadata": {
        "colab": {
          "base_uri": "https://localhost:8080/"
        },
        "id": "4UlAGrTNphLQ",
        "outputId": "3f6b4ede-d485-42ae-cce8-ded79ed50020"
      },
      "execution_count": 136,
      "outputs": [
        {
          "output_type": "execute_result",
          "data": {
            "text/plain": [
              "['파이썬', '자바', '자바스크립트', 'C']"
            ]
          },
          "metadata": {},
          "execution_count": 136
        }
      ]
    },
    {
      "cell_type": "code",
      "source": [
        "# 특정 값을 찾아서 삭제 -> remove\n",
        "# 리스트명.remove(뺄 항목 이름)\n",
        "empty.remove('C')\n",
        "empty"
      ],
      "metadata": {
        "colab": {
          "base_uri": "https://localhost:8080/"
        },
        "id": "aJwr6tkHpx6i",
        "outputId": "64dab089-156a-4304-dc80-47462a687783"
      },
      "execution_count": 137,
      "outputs": [
        {
          "output_type": "execute_result",
          "data": {
            "text/plain": [
              "['파이썬', '자바', '자바스크립트']"
            ]
          },
          "metadata": {},
          "execution_count": 137
        }
      ]
    },
    {
      "cell_type": "code",
      "source": [
        "# clear: 아예 다 지움\n",
        "# 리스트명. claer()\n",
        "empty.clear()\n",
        "empty\n"
      ],
      "metadata": {
        "colab": {
          "base_uri": "https://localhost:8080/"
        },
        "id": "m_KCwYqpp_kw",
        "outputId": "3fa3ecfe-efec-4e9b-fd9a-5a5900fcf7a8"
      },
      "execution_count": 138,
      "outputs": [
        {
          "output_type": "execute_result",
          "data": {
            "text/plain": [
              "[]"
            ]
          },
          "metadata": {},
          "execution_count": 138
        }
      ]
    },
    {
      "cell_type": "markdown",
      "source": [
        "\n",
        "\n",
        "---\n",
        "재배열\n"
      ],
      "metadata": {
        "id": "G53hx0WHqUtY"
      }
    },
    {
      "cell_type": "code",
      "source": [
        "# reverse: 원래 nums를 역순으로 재배열\n",
        "# 리스트명.reverse()\n",
        "nums.reverse()\n",
        "nums"
      ],
      "metadata": {
        "colab": {
          "base_uri": "https://localhost:8080/"
        },
        "id": "AkaXTWDOqPHQ",
        "outputId": "ee83543e-f90c-4d6e-82e6-2dcb517f7e66"
      },
      "execution_count": 139,
      "outputs": [
        {
          "output_type": "execute_result",
          "data": {
            "text/plain": [
              "[10, 8, 6, 4, 2]"
            ]
          },
          "metadata": {},
          "execution_count": 139
        }
      ]
    },
    {
      "cell_type": "code",
      "source": [
        "# sort: 오름차순으로 항목 정렬\n",
        "# reverse=True 주면 내림차순으로 정렬\n",
        "# 리스트명. sort()\n",
        "nums.sort()\n",
        "nums"
      ],
      "metadata": {
        "colab": {
          "base_uri": "https://localhost:8080/"
        },
        "id": "RaHu1wpSqcZA",
        "outputId": "84042209-184e-4a78-cfb0-ee955cd13f7e"
      },
      "execution_count": 140,
      "outputs": [
        {
          "output_type": "execute_result",
          "data": {
            "text/plain": [
              "[2, 4, 6, 8, 10]"
            ]
          },
          "metadata": {},
          "execution_count": 140
        }
      ]
    },
    {
      "cell_type": "code",
      "source": [
        "nums.sort(reverse=True)\n",
        "nums"
      ],
      "metadata": {
        "colab": {
          "base_uri": "https://localhost:8080/"
        },
        "id": "JsFqr8c-qyPA",
        "outputId": "a84e6eef-5bb9-4cd0-a576-27baaf091389"
      },
      "execution_count": 141,
      "outputs": [
        {
          "output_type": "execute_result",
          "data": {
            "text/plain": [
              "[10, 8, 6, 4, 2]"
            ]
          },
          "metadata": {},
          "execution_count": 141
        }
      ]
    },
    {
      "cell_type": "markdown",
      "source": [
        "\n",
        "\n",
        "---\n",
        "탐색\n"
      ],
      "metadata": {
        "id": "HUQvEaehq8bY"
      }
    },
    {
      "cell_type": "code",
      "source": [
        "# in: 리스트 중 특정 값 확인\n",
        "# 특정 항목 in 리스트명\n",
        "strlist"
      ],
      "metadata": {
        "colab": {
          "base_uri": "https://localhost:8080/"
        },
        "id": "Z3BH3B3gq2_A",
        "outputId": "2f056300-7ccd-4ae9-bd5e-432e96207720"
      },
      "execution_count": 142,
      "outputs": [
        {
          "output_type": "execute_result",
          "data": {
            "text/plain": [
              "['a', 'b', 'c', 'd', 'e']"
            ]
          },
          "metadata": {},
          "execution_count": 142
        }
      ]
    },
    {
      "cell_type": "code",
      "source": [
        "'a' in strlist"
      ],
      "metadata": {
        "colab": {
          "base_uri": "https://localhost:8080/"
        },
        "id": "-zkoHMv9rD4Q",
        "outputId": "5dd1fbed-bbcc-4997-b4f3-b508e588cabe"
      },
      "execution_count": 143,
      "outputs": [
        {
          "output_type": "execute_result",
          "data": {
            "text/plain": [
              "True"
            ]
          },
          "metadata": {},
          "execution_count": 143
        }
      ]
    },
    {
      "cell_type": "code",
      "source": [
        "'Q' in strlist"
      ],
      "metadata": {
        "colab": {
          "base_uri": "https://localhost:8080/"
        },
        "id": "4oKgeNQsrM4Q",
        "outputId": "168cffdd-26c2-463b-ff6a-23c2e3eae72a"
      },
      "execution_count": 144,
      "outputs": [
        {
          "output_type": "execute_result",
          "data": {
            "text/plain": [
              "False"
            ]
          },
          "metadata": {},
          "execution_count": 144
        }
      ]
    },
    {
      "cell_type": "code",
      "source": [
        "# index: 특정 항목의 인덱스 값 표시\n",
        "# 리스트명.index(인덱스 확인할 항목)\n",
        "strlist.index('c')"
      ],
      "metadata": {
        "colab": {
          "base_uri": "https://localhost:8080/"
        },
        "id": "_y87h5LYrOWg",
        "outputId": "aa87a943-e3be-4d0f-b539-71ddf3c2b2fa"
      },
      "execution_count": 145,
      "outputs": [
        {
          "output_type": "execute_result",
          "data": {
            "text/plain": [
              "2"
            ]
          },
          "metadata": {},
          "execution_count": 145
        }
      ]
    },
    {
      "cell_type": "code",
      "source": [
        "# 무자기위로 뽑기\n",
        "# random.choice(리스트명)\n",
        "import random #랜덤 라이브러리\n",
        "random.choice(strlist)"
      ],
      "metadata": {
        "colab": {
          "base_uri": "https://localhost:8080/",
          "height": 35
        },
        "id": "FRSwH0sirilx",
        "outputId": "3dc1c042-2630-4814-cb0e-a57aad77fb79"
      },
      "execution_count": 146,
      "outputs": [
        {
          "output_type": "execute_result",
          "data": {
            "text/plain": [
              "'d'"
            ],
            "application/vnd.google.colaboratory.intrinsic+json": {
              "type": "string"
            }
          },
          "metadata": {},
          "execution_count": 146
        }
      ]
    },
    {
      "cell_type": "markdown",
      "source": [
        "\n",
        "\n",
        "---\n",
        "\n",
        "라이브러리의 중요성"
      ],
      "metadata": {
        "id": "y7YX3X1ksw1A"
      }
    },
    {
      "cell_type": "code",
      "source": [
        "prices"
      ],
      "metadata": {
        "colab": {
          "base_uri": "https://localhost:8080/"
        },
        "id": "fAjQ269Psb1Q",
        "outputId": "ce54ea68-a00c-4c92-ab55-14aec5c3bff3"
      },
      "execution_count": 148,
      "outputs": [
        {
          "output_type": "execute_result",
          "data": {
            "text/plain": [
              "[1050.0, 2625.0, 3150.0, 1575.0, 5250.0]"
            ]
          },
          "metadata": {},
          "execution_count": 148
        }
      ]
    },
    {
      "cell_type": "code",
      "source": [
        "# len: prices으 개수\n",
        "len(prices)"
      ],
      "metadata": {
        "colab": {
          "base_uri": "https://localhost:8080/"
        },
        "id": "KN2-3-CMtoi4",
        "outputId": "21378ab3-726f-4532-e82a-1f961257b25b"
      },
      "execution_count": 158,
      "outputs": [
        {
          "output_type": "execute_result",
          "data": {
            "text/plain": [
              "5"
            ]
          },
          "metadata": {},
          "execution_count": 158
        }
      ]
    },
    {
      "cell_type": "code",
      "source": [
        "# for 문에서 in 빼먹음\n",
        "# print로 totalprice할때 'totalprice'라고 입력해서 문자열 출력 -> 중괄호로 변경\n",
        "totalprice=0\n",
        "\n",
        "for i in range(len(prices)):\n",
        "  totalprice= totalprice+prices[i] #여기서 i는 0,1,2,3,4로 0일때는 1050.0을 가져옴\n",
        "\n",
        "print({totalprice})"
      ],
      "metadata": {
        "colab": {
          "base_uri": "https://localhost:8080/"
        },
        "id": "WZ3vIvSzsy7g",
        "outputId": "8f483f70-6eeb-42b8-9f5c-5ad70971265d"
      },
      "execution_count": 159,
      "outputs": [
        {
          "output_type": "stream",
          "name": "stdout",
          "text": [
            "{13650.0}\n"
          ]
        }
      ]
    },
    {
      "cell_type": "code",
      "source": [
        "# sum을 쓰면 한줄로 끝남\n",
        "sum(prices)"
      ],
      "metadata": {
        "colab": {
          "base_uri": "https://localhost:8080/"
        },
        "id": "DjMSFJ6ks_lw",
        "outputId": "4b7ba9aa-f8b0-4419-ce57-cf4474a7aefa"
      },
      "execution_count": 160,
      "outputs": [
        {
          "output_type": "execute_result",
          "data": {
            "text/plain": [
              "13650.0"
            ]
          },
          "metadata": {},
          "execution_count": 160
        }
      ]
    },
    {
      "cell_type": "code",
      "source": [
        "# 문자열은 당연하게 sum으로 출력 못함\n",
        "strlist"
      ],
      "metadata": {
        "colab": {
          "base_uri": "https://localhost:8080/"
        },
        "id": "p8DKaxhXtgng",
        "outputId": "a759827a-860b-41fc-8a85-295a55e258ea"
      },
      "execution_count": 163,
      "outputs": [
        {
          "output_type": "execute_result",
          "data": {
            "text/plain": [
              "['a', 'b', 'c', 'd', 'e']"
            ]
          },
          "metadata": {},
          "execution_count": 163
        }
      ]
    },
    {
      "cell_type": "code",
      "source": [
        "sum(strlist)"
      ],
      "metadata": {
        "colab": {
          "base_uri": "https://localhost:8080/",
          "height": 147
        },
        "id": "hUxihsiJt8Ix",
        "outputId": "1aa105c4-b383-4256-b213-a354635ef971"
      },
      "execution_count": 164,
      "outputs": [
        {
          "output_type": "error",
          "ename": "TypeError",
          "evalue": "unsupported operand type(s) for +: 'int' and 'str'",
          "traceback": [
            "\u001b[0;31m---------------------------------------------------------------------------\u001b[0m",
            "\u001b[0;31mTypeError\u001b[0m                                 Traceback (most recent call last)",
            "\u001b[0;32m/tmp/ipython-input-2888092737.py\u001b[0m in \u001b[0;36m<cell line: 0>\u001b[0;34m()\u001b[0m\n\u001b[0;32m----> 1\u001b[0;31m \u001b[0msum\u001b[0m\u001b[0;34m(\u001b[0m\u001b[0mstrlist\u001b[0m\u001b[0;34m)\u001b[0m\u001b[0;34m\u001b[0m\u001b[0;34m\u001b[0m\u001b[0m\n\u001b[0m",
            "\u001b[0;31mTypeError\u001b[0m: unsupported operand type(s) for +: 'int' and 'str'"
          ]
        }
      ]
    },
    {
      "cell_type": "markdown",
      "source": [
        "\n",
        "\n",
        "---\n",
        "**프로젝트 1**\n",
        "\n"
      ],
      "metadata": {
        "id": "c5eKkNICuMbI"
      }
    },
    {
      "cell_type": "code",
      "source": [
        "# 2단계 (순번 -> 묘호)\n",
        "# 1대는 태조, 2대는 정종 이렇게 출력해보기\n",
        "\n",
        "for i in range(len(dynasties)):\n",
        "  print(i+1,'대',dynasties[i]) #i에 1더하는 이유: 처음 i는 0으로 할당"
      ],
      "metadata": {
        "colab": {
          "base_uri": "https://localhost:8080/"
        },
        "id": "f1PKH0xyuFIw",
        "outputId": "02a555ef-7175-49e4-97fc-ce525c231228"
      },
      "execution_count": 180,
      "outputs": [
        {
          "output_type": "stream",
          "name": "stdout",
          "text": [
            "1 대 태조\n",
            "2 대 정종\n",
            "3 대 태종\n",
            "4 대 세종\n",
            "5 대 문종\n",
            "6 대 단종\n",
            "7 대 세조\n",
            "8 대 예종\n",
            "9 대 성종\n",
            "10 대 연산군\n",
            "11 대 중종\n",
            "12 대 인종\n",
            "13 대 명종\n",
            "14 대 선조\n",
            "15 대 광해군\n",
            "16 대 인조\n",
            "17 대 효종\n",
            "18 대 현종\n",
            "19 대 숙종\n",
            "20 대 경종\n",
            "21 대 영조\n",
            "22 대 정조\n",
            "23 대 순조\n",
            "24 대 헌종\n",
            "25 대 철종\n",
            "26 대 고종\n",
            "27 대 순종\n"
          ]
        }
      ]
    },
    {
      "cell_type": "code",
      "source": [
        "# 3단계: 특정 항목이 어떤 인덱스에 위치해있는지 찾기\n",
        "# index는 0부터 시작이기 때문에 철종이 25대가 아니라 24로 나옴 -> index에 1더하기\n",
        "\n",
        "print(dynasties.index('철종')+1)"
      ],
      "metadata": {
        "colab": {
          "base_uri": "https://localhost:8080/"
        },
        "id": "00f32r6BuhYg",
        "outputId": "50422b6d-0a9d-410c-fe40-4a9b0fb6f87b"
      },
      "execution_count": 181,
      "outputs": [
        {
          "output_type": "stream",
          "name": "stdout",
          "text": [
            "25\n"
          ]
        }
      ]
    },
    {
      "cell_type": "markdown",
      "source": [
        "\n",
        "\n",
        "---\n",
        "---\n",
        "---\n",
        "\n",
        "**2. 문자열**"
      ],
      "metadata": {
        "id": "ry7y4Pt7wIx4"
      }
    },
    {
      "cell_type": "markdown",
      "metadata": {
        "id": "dc15388d"
      },
      "source": [
        "다음은 자주 사용되는 이스케이프 문자열의 예시입니다.\n",
        "\n",
        "*   `\\\\`: 백슬래시 자체를 표현\n",
        "*   `\\'`: 작은따옴표를 표현\n",
        "*   `\\\"`: 큰따옴표를 표현\n",
        "*   `\\n`: 줄 바꿈 (새로운 줄로 이동)\n",
        "*   `\\t`: 탭 (일정한 간격 띄우기)"
      ]
    },
    {
      "cell_type": "code",
      "metadata": {
        "colab": {
          "base_uri": "https://localhost:8080/"
        },
        "id": "a87d4ea6",
        "outputId": "1648b6f1-2743-41af-b54c-cde8c3fde49d"
      },
      "source": [
        "# 예시 1: 문자열 안에 따옴표 포함하기\n",
        "print('문자열 안에 작은따옴표 \\'를 넣고 싶어요.')\n",
        "print(\"문자열 안에 큰따옴표 \\\"를 넣고 싶어요.\")\n",
        "\n",
        "# 예시 2: 백슬래시 표현하기\n",
        "print('경로를 표시할 때 \\\\를 사용해요.')\n",
        "\n",
        "# 예시 3: 줄 바꿈과 탭 사용하기\n",
        "print(\"첫 번째 줄\\n두 번째 줄\")\n",
        "print(\"이름:\\t김철수\")"
      ],
      "execution_count": 183,
      "outputs": [
        {
          "output_type": "stream",
          "name": "stdout",
          "text": [
            "문자열 안에 작은따옴표 '를 넣고 싶어요.\n",
            "문자열 안에 큰따옴표 \"를 넣고 싶어요.\n",
            "경로를 표시할 때 \\를 사용해요.\n",
            "첫 번째 줄\n",
            "두 번째 줄\n",
            "이름:\t김철수\n"
          ]
        }
      ]
    },
    {
      "cell_type": "code",
      "source": [
        "char1='\\'한글\\'사용법'"
      ],
      "metadata": {
        "id": "wLiradJn0mzf"
      },
      "execution_count": 194,
      "outputs": []
    },
    {
      "cell_type": "code",
      "source": [
        "char1"
      ],
      "metadata": {
        "colab": {
          "base_uri": "https://localhost:8080/",
          "height": 35
        },
        "id": "DOYa8OP-0qNA",
        "outputId": "2a218eb7-5ee3-4eeb-de02-67badf4d636a"
      },
      "execution_count": 195,
      "outputs": [
        {
          "output_type": "execute_result",
          "data": {
            "text/plain": [
              "\"'한글'사용법\""
            ],
            "application/vnd.google.colaboratory.intrinsic+json": {
              "type": "string"
            }
          },
          "metadata": {},
          "execution_count": 195
        }
      ]
    },
    {
      "cell_type": "code",
      "source": [
        "char2='\\'로스트\\''+'\\'아크\\''\n",
        "char2"
      ],
      "metadata": {
        "colab": {
          "base_uri": "https://localhost:8080/",
          "height": 35
        },
        "id": "yM05DgzD1jjg",
        "outputId": "1c93db53-237a-49b2-b64f-a3d3c36ff5cb"
      },
      "execution_count": 205,
      "outputs": [
        {
          "output_type": "execute_result",
          "data": {
            "text/plain": [
              "\"'로스트''아크'\""
            ],
            "application/vnd.google.colaboratory.intrinsic+json": {
              "type": "string"
            }
          },
          "metadata": {},
          "execution_count": 205
        }
      ]
    },
    {
      "cell_type": "markdown",
      "source": [
        "---\n",
        "문자열 함수 : 대소문자 변환"
      ],
      "metadata": {
        "id": "6VFPHktT2sxH"
      }
    },
    {
      "cell_type": "code",
      "source": [
        "# 대소문자 변환\n",
        "'ABCDEFG'.lower() #대문자를 소문자로"
      ],
      "metadata": {
        "colab": {
          "base_uri": "https://localhost:8080/",
          "height": 35
        },
        "id": "0SP5KRki2FEg",
        "outputId": "dc76e92e-760f-4ea4-f277-5643cd505ce4"
      },
      "execution_count": 209,
      "outputs": [
        {
          "output_type": "execute_result",
          "data": {
            "text/plain": [
              "'abcdefg'"
            ],
            "application/vnd.google.colaboratory.intrinsic+json": {
              "type": "string"
            }
          },
          "metadata": {},
          "execution_count": 209
        }
      ]
    },
    {
      "cell_type": "code",
      "source": [
        "'qwer'.upper() #소문자를 대문자로"
      ],
      "metadata": {
        "colab": {
          "base_uri": "https://localhost:8080/",
          "height": 35
        },
        "id": "P36_3Og024Yj",
        "outputId": "c9c2870b-ad48-40c7-b473-6382f284a54d"
      },
      "execution_count": 210,
      "outputs": [
        {
          "output_type": "execute_result",
          "data": {
            "text/plain": [
              "'QWER'"
            ],
            "application/vnd.google.colaboratory.intrinsic+json": {
              "type": "string"
            }
          },
          "metadata": {},
          "execution_count": 210
        }
      ]
    },
    {
      "cell_type": "markdown",
      "source": [
        "---\n",
        "문자열 함수 : 검색 및 확인"
      ],
      "metadata": {
        "id": "qaRN3JIx3B8f"
      }
    },
    {
      "cell_type": "code",
      "source": [
        "# 문자열 중에서 특정 문자 찾기 : 인덱스로 표시\n",
        "'kiwi'.find('k')"
      ],
      "metadata": {
        "colab": {
          "base_uri": "https://localhost:8080/"
        },
        "id": "nrzir4E23JKw",
        "outputId": "590e7824-c6fc-4ac8-d4d9-5199b56e3390"
      },
      "execution_count": 218,
      "outputs": [
        {
          "output_type": "execute_result",
          "data": {
            "text/plain": [
              "0"
            ]
          },
          "metadata": {},
          "execution_count": 218
        }
      ]
    },
    {
      "cell_type": "code",
      "source": [
        "# startswich: 무엇으로 시작하는지 참 거짓\n",
        "'banana'.startswith('ba')"
      ],
      "metadata": {
        "colab": {
          "base_uri": "https://localhost:8080/"
        },
        "id": "slNp1GMt3XFw",
        "outputId": "7460b21a-d66b-4b6e-b5aa-80320c69c531"
      },
      "execution_count": 221,
      "outputs": [
        {
          "output_type": "execute_result",
          "data": {
            "text/plain": [
              "True"
            ]
          },
          "metadata": {},
          "execution_count": 221
        }
      ]
    },
    {
      "cell_type": "code",
      "source": [
        "# endswith: startswith랑 반대\n",
        "'mango'.endswith('go')"
      ],
      "metadata": {
        "colab": {
          "base_uri": "https://localhost:8080/"
        },
        "id": "xOL9_MMJ3xKf",
        "outputId": "7b413e0e-8864-4a15-c362-d95fbfd930c9"
      },
      "execution_count": 223,
      "outputs": [
        {
          "output_type": "execute_result",
          "data": {
            "text/plain": [
              "True"
            ]
          },
          "metadata": {},
          "execution_count": 223
        }
      ]
    },
    {
      "cell_type": "markdown",
      "source": [
        "---\n",
        "문자열 확인: 분리 및 결합"
      ],
      "metadata": {
        "id": "WavC_fy039ZO"
      }
    },
    {
      "cell_type": "code",
      "source": [
        "# split: 문자를 , 기준으로 리스트 생성\n",
        "'apple,banana,mango'.split(',')"
      ],
      "metadata": {
        "colab": {
          "base_uri": "https://localhost:8080/"
        },
        "id": "xl0vJ1LT346v",
        "outputId": "009ff745-7736-408b-ba89-e07253c714d6"
      },
      "execution_count": 224,
      "outputs": [
        {
          "output_type": "execute_result",
          "data": {
            "text/plain": [
              "['apple', 'banana', 'mango']"
            ]
          },
          "metadata": {},
          "execution_count": 224
        }
      ]
    },
    {
      "cell_type": "markdown",
      "source": [
        "---\n",
        "문자열 변환: 아스키코드"
      ],
      "metadata": {
        "id": "0k1nEj114J--"
      }
    },
    {
      "cell_type": "code",
      "source": [
        "# 소문자와 대문자의 아스키 코드가 서로 다르게 할당\n",
        "ord('A')"
      ],
      "metadata": {
        "colab": {
          "base_uri": "https://localhost:8080/"
        },
        "id": "fYTh1lFX4E0v",
        "outputId": "c8334163-e3e8-41ac-f084-4c21888865e3"
      },
      "execution_count": 225,
      "outputs": [
        {
          "output_type": "execute_result",
          "data": {
            "text/plain": [
              "65"
            ]
          },
          "metadata": {},
          "execution_count": 225
        }
      ]
    },
    {
      "cell_type": "code",
      "source": [
        "ord('a')"
      ],
      "metadata": {
        "colab": {
          "base_uri": "https://localhost:8080/"
        },
        "id": "xV0Fcmz44Rv_",
        "outputId": "1b91ed8e-0e92-4783-eb92-b751610cdea7"
      },
      "execution_count": 226,
      "outputs": [
        {
          "output_type": "execute_result",
          "data": {
            "text/plain": [
              "97"
            ]
          },
          "metadata": {},
          "execution_count": 226
        }
      ]
    },
    {
      "cell_type": "code",
      "source": [
        "chr(65)"
      ],
      "metadata": {
        "colab": {
          "base_uri": "https://localhost:8080/",
          "height": 35
        },
        "id": "XlAf2RTR4SbP",
        "outputId": "5c914bb9-5c36-468a-bcf8-39fcf4601f6c"
      },
      "execution_count": 227,
      "outputs": [
        {
          "output_type": "execute_result",
          "data": {
            "text/plain": [
              "'A'"
            ],
            "application/vnd.google.colaboratory.intrinsic+json": {
              "type": "string"
            }
          },
          "metadata": {},
          "execution_count": 227
        }
      ]
    },
    {
      "cell_type": "markdown",
      "source": [
        "---"
      ],
      "metadata": {
        "id": "Keb47gBA4WBW"
      }
    },
    {
      "cell_type": "code",
      "source": [
        "# 문자 숫자 판단하기\n",
        "ans=input('입력한 데이터 : ')\n",
        "if ans.isdigit():\n",
        "  print('숫자입니다')\n",
        "else:\n",
        "  print('숫자가 아닙니다')"
      ],
      "metadata": {
        "colab": {
          "base_uri": "https://localhost:8080/"
        },
        "id": "m_PMCABs4UIv",
        "outputId": "38c34922-b33f-49b7-dcbf-048cad5d25d2"
      },
      "execution_count": 238,
      "outputs": [
        {
          "output_type": "stream",
          "name": "stdout",
          "text": [
            "입력한 데이터 : 3.14\n",
            "숫자가 아닙니다\n"
          ]
        }
      ]
    },
    {
      "cell_type": "markdown",
      "source": [
        "---\n",
        "문자나 숫자 넣으면 몇대 왕인지 바로 튀어나는 프로그램"
      ],
      "metadata": {
        "id": "eWjXFq0355kG"
      }
    },
    {
      "cell_type": "code",
      "source": [
        "while True:\n",
        "    ans = input('순번 또는 왕의 이름을 입력 (종료하려면 \"끝\" 입력): ')\n",
        "    if ans == '끝':\n",
        "        break\n",
        "\n",
        "    try:\n",
        "        if ans.isdigit():\n",
        "            # 입력이 숫자일 경우\n",
        "            i = int(ans)\n",
        "            if 1 <= i <= len(dynasties):\n",
        "                print(f\"{i}대 왕은 {dynasties[i - 1]}입니다.\")\n",
        "            else:\n",
        "                print(\"유효한 순번을 입력하세요 (1부터 27까지).\")\n",
        "        else:\n",
        "            # 입력이 문자열일 경우\n",
        "            # 문자열이 dynasties 리스트에 있는지 확인하고 인덱스 찾기\n",
        "            if ans in dynasties:\n",
        "                print(f\"{ans}은(는) {dynasties.index(ans) + 1}대 왕입니다.\")\n",
        "            else:\n",
        "                print(\"해당하는 묘호가 없습니다.\")\n",
        "    except ValueError:\n",
        "        print('잘못된 입력 형식입니다. 순번(숫자) 또는 왕의 이름(문자열)을 정확히 입력해주세요.')\n",
        "    except Exception as e:\n",
        "        print(f\"알 수 없는 오류가 발생했습니다: {e}\")"
      ],
      "metadata": {
        "colab": {
          "base_uri": "https://localhost:8080/"
        },
        "id": "a7C88qxz54OP",
        "outputId": "e5d3ac79-6663-4af5-a09b-ccebc7f793ca"
      },
      "execution_count": 249,
      "outputs": [
        {
          "name": "stdout",
          "output_type": "stream",
          "text": [
            "순번 또는 왕의 이름을 입력 (종료하려면 \"끝\" 입력): 가나\n",
            "해당하는 묘호가 없습니다.\n",
            "순번 또는 왕의 이름을 입력 (종료하려면 \"끝\" 입력): 세종\n",
            "세종은(는) 4대 왕입니다.\n",
            "순번 또는 왕의 이름을 입력 (종료하려면 \"끝\" 입력): 끝\n"
          ]
        }
      ]
    },
    {
      "cell_type": "code",
      "source": [
        "# dynasties.index(ans) + 1을 하는 이유: index는 0부터 시작해서 4번째 세종이 index 3에 위치함\n",
        "dynasties.index('세종')"
      ],
      "metadata": {
        "colab": {
          "base_uri": "https://localhost:8080/"
        },
        "id": "ZC34x1Kn59wf",
        "outputId": "f31121fc-47b3-4fdc-da8c-1ee8eed9c452"
      },
      "execution_count": 262,
      "outputs": [
        {
          "output_type": "execute_result",
          "data": {
            "text/plain": [
              "3"
            ]
          },
          "metadata": {},
          "execution_count": 262
        }
      ]
    },
    {
      "cell_type": "code",
      "source": [
        "#dynasties[i - 1]인 이유: 4대왕을 하고 싶은데 4를 넣어버리면 5번재인 문종이 나와버림\n",
        "print(f'{dynasties[4]}')"
      ],
      "metadata": {
        "colab": {
          "base_uri": "https://localhost:8080/"
        },
        "id": "nbBnp43l8Abf",
        "outputId": "2e7139aa-93dc-45a6-cf2f-f955d7b5001a"
      },
      "execution_count": 263,
      "outputs": [
        {
          "output_type": "stream",
          "name": "stdout",
          "text": [
            "문종\n"
          ]
        }
      ]
    },
    {
      "cell_type": "markdown",
      "source": [
        "---\n",
        "---\n",
        "---\n",
        "**3. 딕셔너리**"
      ],
      "metadata": {
        "id": "7Az8YEXM8slm"
      }
    },
    {
      "cell_type": "code",
      "source": [
        "# 딕셔너리는 중괄호에다가 항목 : 항목 , 항목 : 항목 으로 입력\n",
        "person = {\n",
        "'name': '홍길동',\n",
        "'age': 30,\n",
        "'job': '개발자'\n",
        "}\n"
      ],
      "metadata": {
        "id": "oRr_mMT38Vz_"
      },
      "execution_count": 271,
      "outputs": []
    },
    {
      "cell_type": "code",
      "source": [
        "person"
      ],
      "metadata": {
        "colab": {
          "base_uri": "https://localhost:8080/"
        },
        "id": "9Saq_kjK85XP",
        "outputId": "3cd2c3e5-9efe-4518-aecc-450dd3f1ae9e"
      },
      "execution_count": 272,
      "outputs": [
        {
          "output_type": "execute_result",
          "data": {
            "text/plain": [
              "{'name': '홍길동', 'age': 30, 'job': '개발자'}"
            ]
          },
          "metadata": {},
          "execution_count": 272
        }
      ]
    },
    {
      "cell_type": "code",
      "source": [
        "# 키가 중복되면 마지막 키로 입력됨\n",
        "# 처음 a에 넣은 3이 무시되고 마지막에 넣은 5로 입력됨\n",
        "d={'a':3, 'b':4, 'a':5}\n",
        "print(d)"
      ],
      "metadata": {
        "colab": {
          "base_uri": "https://localhost:8080/"
        },
        "id": "VeRmrCCS852O",
        "outputId": "9d7893c4-fd1a-45aa-b52f-b41d57a11b94"
      },
      "execution_count": 273,
      "outputs": [
        {
          "output_type": "stream",
          "name": "stdout",
          "text": [
            "{'a': 5, 'b': 4}\n"
          ]
        }
      ]
    },
    {
      "cell_type": "code",
      "source": [
        "# tuple\n",
        "coffee={'아메리카노':2000,'라떼':3000,'말차':4000}"
      ],
      "metadata": {
        "id": "t-3okBPL9y8_"
      },
      "execution_count": 296,
      "outputs": []
    },
    {
      "cell_type": "code",
      "source": [
        "coffee['아메리카노']"
      ],
      "metadata": {
        "colab": {
          "base_uri": "https://localhost:8080/"
        },
        "id": "Oi-gWEl6_D2O",
        "outputId": "26cdb122-148b-4784-d6b9-3879e672cd14"
      },
      "execution_count": 297,
      "outputs": [
        {
          "output_type": "execute_result",
          "data": {
            "text/plain": [
              "2000"
            ]
          },
          "metadata": {},
          "execution_count": 297
        }
      ]
    },
    {
      "cell_type": "code",
      "source": [
        "# 이렇게 key만 적으면 음료명이 나옴\n",
        "for k in coffee:\n",
        "  print(k)"
      ],
      "metadata": {
        "colab": {
          "base_uri": "https://localhost:8080/"
        },
        "id": "SKQZ5z2e_LSk",
        "outputId": "a6209124-add3-4b2c-beb6-fcd9b04e95e0"
      },
      "execution_count": 298,
      "outputs": [
        {
          "output_type": "stream",
          "name": "stdout",
          "text": [
            "아메리카노\n",
            "라떼\n",
            "말차\n"
          ]
        }
      ]
    },
    {
      "cell_type": "code",
      "source": [
        "# 이렇게 coffee라는 딕셔너리에 []를 키를 쓰면 뒤의 가격이 나옴\n",
        "for k in coffee:\n",
        "  print(coffee[k])"
      ],
      "metadata": {
        "colab": {
          "base_uri": "https://localhost:8080/"
        },
        "id": "zqzNr_bT_ite",
        "outputId": "f3b12930-97ae-47f0-f37d-1ec8e0de3ee6"
      },
      "execution_count": 299,
      "outputs": [
        {
          "output_type": "stream",
          "name": "stdout",
          "text": [
            "2000\n",
            "3000\n",
            "4000\n"
          ]
        }
      ]
    },
    {
      "cell_type": "code",
      "source": [
        "# 키변수 (k, key)와 값변수(v, value)를 둘다 내보내기\n",
        "for k, v in coffee.items():\n",
        "  print(k, v)"
      ],
      "metadata": {
        "colab": {
          "base_uri": "https://localhost:8080/"
        },
        "id": "Ettn6L6W_pZe",
        "outputId": "87ac6d24-3e34-4a07-be62-12ef3685602b"
      },
      "execution_count": 300,
      "outputs": [
        {
          "output_type": "stream",
          "name": "stdout",
          "text": [
            "아메리카노 2000\n",
            "라떼 3000\n",
            "말차 4000\n"
          ]
        }
      ]
    },
    {
      "cell_type": "markdown",
      "source": [
        "---\n",
        "실습 예제"
      ],
      "metadata": {
        "id": "BESd1rkdAqRF"
      }
    },
    {
      "cell_type": "code",
      "source": [
        "score={'홍길동':100,'이순신':90,'강감찬':80}"
      ],
      "metadata": {
        "id": "oXhob0cD_-Yf"
      },
      "execution_count": 301,
      "outputs": []
    },
    {
      "cell_type": "code",
      "metadata": {
        "colab": {
          "base_uri": "https://localhost:8080/"
        },
        "id": "98e2127a",
        "outputId": "33d48f2e-7cdd-4677-efe6-ec694165c20c"
      },
      "source": [
        "# 이거 이해 안가서 AI 돌림\n",
        "\n",
        "# 전체 학생의 총점 계산 (순회 사용)\n",
        "total_score = 0\n",
        "for score in socre.values():\n",
        "  total_score += score\n",
        "\n",
        "# 전체 학생 수 계산\n",
        "num_students = len(socre)\n",
        "\n",
        "# 평균 계산\n",
        "average_score = total_score / num_students\n",
        "\n",
        "print(f\"전체 학생 총점: {total_score}\")\n",
        "print(f\"전체 학생 평균: {average_score}\")\n",
        "\n",
        "# 가장 높은 점수 찾기 및 해당 학생 이름 찾기 (순회 사용)\n",
        "max_score = 0\n",
        "student_with_max_score = \"\"\n",
        "\n",
        "for name, score in socre.items():\n",
        "  if score > max_score:\n",
        "    max_score = score\n",
        "    student_with_max_score = name\n",
        "\n",
        "print(f\"가장 높은 점수: {max_score}\")\n",
        "print(f\"가장 높은 점수를 받은 학생: {student_with_max_score}\")\n",
        "\n",
        "# 참고: sum()과 max() 함수를 사용하여 더 간결하게 작성할 수도 있습니다.\n",
        "# total_score_sum = sum(socre.values())\n",
        "# max_score_func = max(socre.values())\n",
        "# print(f\"\\nsum() 함수로 계산한 총점: {total_score_sum}\")\n",
        "# print(f\"max() 함수로 찾은 최고 점수: {max_score_func}\")"
      ],
      "execution_count": 311,
      "outputs": [
        {
          "output_type": "stream",
          "name": "stdout",
          "text": [
            "전체 학생 총점: 270\n",
            "전체 학생 평균: 90.0\n",
            "가장 높은 점수: 100\n",
            "가장 높은 점수를 받은 학생: 홍길동\n"
          ]
        }
      ]
    },
    {
      "cell_type": "code",
      "source": [],
      "metadata": {
        "id": "tT3R2_8rCuNO"
      },
      "execution_count": null,
      "outputs": []
    }
  ]
}