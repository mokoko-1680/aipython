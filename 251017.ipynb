{
  "nbformat": 4,
  "nbformat_minor": 0,
  "metadata": {
    "colab": {
      "provenance": []
    },
    "kernelspec": {
      "name": "python3",
      "display_name": "Python 3"
    },
    "language_info": {
      "name": "python"
    }
  },
  "cells": [
    {
      "cell_type": "markdown",
      "source": [
        "---\n",
        "---\n",
        "---\n",
        "**1-2. 함수**"
      ],
      "metadata": {
        "id": "up_aIZfrodO6"
      }
    },
    {
      "cell_type": "code",
      "execution_count": 8,
      "metadata": {
        "colab": {
          "base_uri": "https://localhost:8080/"
        },
        "id": "fe9aaguAl88r",
        "outputId": "94dda68c-1dc9-43f6-ac4f-ae2cecfb8d05"
      },
      "outputs": [
        {
          "output_type": "stream",
          "name": "stdout",
          "text": [
            "['안녕하세요', '하이', '안뇽']\n"
          ]
        }
      ],
      "source": [
        "asdf=['안녕하세요','하이','안뇽']\n",
        "print(asdf)"
      ]
    },
    {
      "cell_type": "code",
      "source": [
        "def sayhello():\n",
        "  i = int(input('숫자입력: '))\n",
        "  print(asdf[i])"
      ],
      "metadata": {
        "id": "9Ypkz7inn6oM"
      },
      "execution_count": 11,
      "outputs": []
    },
    {
      "cell_type": "code",
      "source": [
        "sayhello()"
      ],
      "metadata": {
        "colab": {
          "base_uri": "https://localhost:8080/"
        },
        "id": "x9x_Y92noHVs",
        "outputId": "79323c3c-a2d5-4af7-8caf-f3396db16056"
      },
      "execution_count": 12,
      "outputs": [
        {
          "output_type": "stream",
          "name": "stdout",
          "text": [
            "숫자입력: 1\n",
            "하이\n"
          ]
        }
      ]
    },
    {
      "cell_type": "markdown",
      "source": [
        "---\n",
        "---\n",
        "---\n",
        "**코딩실습 2**"
      ],
      "metadata": {
        "id": "AttS61x5paTp"
      }
    },
    {
      "cell_type": "code",
      "source": [
        "# 함수 정의하기\n",
        "def BMI() :\n",
        "    BMI=W/H*H\n",
        "    return BMI"
      ],
      "metadata": {
        "id": "8pxpqERUoNZa"
      },
      "execution_count": 34,
      "outputs": []
    },
    {
      "cell_type": "code",
      "source": [
        "# 호출문 작성 ...??\n",
        "W=int(input('몸무게를 입력해주시오(단위:kg)'))\n",
        "H=int(input('키를 입력해주시오(단위:cm)'))/100\n",
        "\n",
        "print(BMI)"
      ],
      "metadata": {
        "colab": {
          "base_uri": "https://localhost:8080/"
        },
        "id": "C5jA0ycosn8L",
        "outputId": "669681c8-2391-45b8-888f-6ee3d8318a24"
      },
      "execution_count": 35,
      "outputs": [
        {
          "output_type": "stream",
          "name": "stdout",
          "text": [
            "몸무게를 입력해주시오(단위:kg)72\n",
            "키를 입력해주시오(단위:cm)171\n",
            "<function BMI at 0x7f9d6466e5c0>\n"
          ]
        }
      ]
    },
    {
      "cell_type": "code",
      "source": [
        "# 교수님 예시\n",
        "def bmi_fun(h,w):\n",
        "  bmi=w/h**2\n",
        "  return bmi\n",
        "\n",
        "bmi=bmi_fun(170,70)\n",
        "print(bmi)"
      ],
      "metadata": {
        "colab": {
          "base_uri": "https://localhost:8080/"
        },
        "id": "CRdTZ72qtq5K",
        "outputId": "0c669d72-0688-46b0-ec33-282ec9dfaffe"
      },
      "execution_count": 38,
      "outputs": [
        {
          "output_type": "stream",
          "name": "stdout",
          "text": [
            "0.002422145328719723\n"
          ]
        }
      ]
    },
    {
      "cell_type": "code",
      "source": [
        "# 예제로 고치기\n",
        "def bmi2(h,w):\n",
        "  bmi2=w/h**2\n",
        "  return bmi\n",
        "\n",
        "bmi2(55,1.68)"
      ],
      "metadata": {
        "colab": {
          "base_uri": "https://localhost:8080/"
        },
        "id": "KqRHP3xXvAEK",
        "outputId": "f054a119-d411-437a-8255-548863af32bc"
      },
      "execution_count": 40,
      "outputs": [
        {
          "output_type": "execute_result",
          "data": {
            "text/plain": [
              "0.002422145328719723"
            ]
          },
          "metadata": {},
          "execution_count": 40
        }
      ]
    },
    {
      "cell_type": "code",
      "source": [
        "#예제에서 입력 가능하게 업그레이드\n",
        "h=int(input('키를 입력해주시오(단위:cm)'))/100\n",
        "w=int(input('몸무게를 입력해주시오(단위:kg)'))\n",
        "\n",
        "def bmi3(h,w):\n",
        "  bmi3=w/h**2\n",
        "  return bmi3\n",
        "\n",
        "print(round(bmi3(h,w), 2))"
      ],
      "metadata": {
        "colab": {
          "base_uri": "https://localhost:8080/"
        },
        "id": "ODIsDadzvVv7",
        "outputId": "766a1f47-5135-406f-d4ee-5d0f9237e80f"
      },
      "execution_count": 49,
      "outputs": [
        {
          "output_type": "stream",
          "name": "stdout",
          "text": [
            "키를 입력해주시오(단위:cm)171\n",
            "몸무게를 입력해주시오(단위:kg)72\n",
            "24.62\n"
          ]
        }
      ]
    },
    {
      "cell_type": "markdown",
      "source": [
        "---\n",
        "***아래는 입출력 예제 1,2,3***"
      ],
      "metadata": {
        "id": "zIfipthsyMwa"
      }
    },
    {
      "cell_type": "code",
      "source": [
        "# 입출력 예제 입력 : 단위 cm로 입력\n",
        "h=int(input('키를 입력해주시오(단위:cm)'))/100\n",
        "w=float(input('몸무게를 입력해주시오(단위:kg)'))\n",
        "\n",
        "def exbmi(h,w):\n",
        "  exbmi=w/h**2\n",
        "  return exbmi\n",
        "\n",
        "print(round(exbmi(h,w), 2))"
      ],
      "metadata": {
        "colab": {
          "base_uri": "https://localhost:8080/"
        },
        "id": "tiptWnhRvtVq",
        "outputId": "1849d1d0-1904-4260-c19e-553b44275861"
      },
      "execution_count": 53,
      "outputs": [
        {
          "output_type": "stream",
          "name": "stdout",
          "text": [
            "키를 입력해주시오(단위:cm)135\n",
            "몸무게를 입력해주시오(단위:kg)43.01\n",
            "23.6\n"
          ]
        }
      ]
    },
    {
      "cell_type": "code",
      "source": [
        "# 입출력 예제 입력 : 단위 cm로 입력\n",
        "h=int(input('키를 입력해주시오(단위:cm)'))/100\n",
        "w=float(input('몸무게를 입력해주시오(단위:kg)'))\n",
        "\n",
        "def exbmi(h,w):\n",
        "  exbmi=w/h**2\n",
        "  return exbmi\n",
        "\n",
        "print(round(exbmi(h,w), 2))"
      ],
      "metadata": {
        "colab": {
          "base_uri": "https://localhost:8080/"
        },
        "id": "RJMfxoXNx2fa",
        "outputId": "5531ec0a-e844-4ca5-efc3-a9aca890febe"
      },
      "execution_count": 55,
      "outputs": [
        {
          "output_type": "stream",
          "name": "stdout",
          "text": [
            "키를 입력해주시오(단위:cm)187\n",
            "몸무게를 입력해주시오(단위:kg)102.0\n",
            "29.17\n"
          ]
        }
      ]
    },
    {
      "cell_type": "code",
      "source": [
        "# 입출력 예제 입력 : 단위 cm로 입력\n",
        "h=int(input('키를 입력해주시오(단위:cm)'))/100\n",
        "w=float(input('몸무게를 입력해주시오(단위:kg)'))\n",
        "\n",
        "def exbmi(h,w):\n",
        "  exbmi=w/h**2\n",
        "  return exbmi\n",
        "\n",
        "print(round(exbmi(h,w), 2))"
      ],
      "metadata": {
        "colab": {
          "base_uri": "https://localhost:8080/"
        },
        "id": "qbAEjAdeyI6a",
        "outputId": "322f3c66-65b6-4990-b2d7-98b15c5e2fd7"
      },
      "execution_count": 56,
      "outputs": [
        {
          "output_type": "stream",
          "name": "stdout",
          "text": [
            "키를 입력해주시오(단위:cm)164\n",
            "몸무게를 입력해주시오(단위:kg)46.78\n",
            "17.39\n"
          ]
        }
      ]
    },
    {
      "cell_type": "markdown",
      "source": [
        "---\n",
        "---\n",
        "---\n",
        "**실습예제 2번째**"
      ],
      "metadata": {
        "id": "S7QtEQ3T3dch"
      }
    },
    {
      "cell_type": "code",
      "source": [
        "def abc (A,B):\n",
        "  A,B=map(int,input().split())\n",
        "  abc=A+B\n",
        "  return abc\n",
        "\n",
        "print(abc)\n"
      ],
      "metadata": {
        "colab": {
          "base_uri": "https://localhost:8080/"
        },
        "id": "gFtrsNwa3gtZ",
        "outputId": "bb20e48d-a4f0-4433-efe7-796371494cf2"
      },
      "execution_count": 57,
      "outputs": [
        {
          "output_type": "stream",
          "name": "stdout",
          "text": [
            "<function abc at 0x7f9d4fabf920>\n"
          ]
        }
      ]
    },
    {
      "cell_type": "markdown",
      "source": [
        "# 함수 두개 입력할때 사용하는 방법\n",
        "a,b=map(int,input().split())\n",
        "\n",
        "print(a+b)\n"
      ],
      "metadata": {
        "id": "42x68gbJ4sZB"
      }
    },
    {
      "cell_type": "code",
      "metadata": {
        "id": "e7d35673"
      },
      "source": [
        "# 함수 정의하기: A와 B를 매개변수로 받아 합을 반환\n",
        "def abc(A, B):\n",
        "  sum_result = A + B\n",
        "  return sum_result"
      ],
      "execution_count": 60,
      "outputs": []
    },
    {
      "cell_type": "code",
      "metadata": {
        "colab": {
          "base_uri": "https://localhost:8080/"
        },
        "id": "c8769bbc",
        "outputId": "24a2cf1f-59f5-4931-e8d4-a66365ac3547"
      },
      "source": [
        "# 사용자로부터 두 숫자 입력받기\n",
        "num1, num2 = map(int, input('두 숫자를 공백으로 구분하여 입력하세요: ').split())\n",
        "\n",
        "# 함수 호출하고 결과 출력하기\n",
        "# print(abc()) 대신 함수를 호출하고 그 결과를 print 합니다.\n",
        "# 위에서 정의한 함수는 매개변수를 받으므로, 입력받은 num1과 num2를 전달해야 합니다.\n",
        "print(abc(num1, num2))"
      ],
      "execution_count": 61,
      "outputs": [
        {
          "output_type": "stream",
          "name": "stdout",
          "text": [
            "두 숫자를 공백으로 구분하여 입력하세요: 4 5\n",
            "9\n"
          ]
        }
      ]
    },
    {
      "cell_type": "markdown",
      "source": [
        "---\n",
        "---\n",
        "---\n",
        "**심화 문법 : split, join**"
      ],
      "metadata": {
        "id": "NrMI_tx-48Cp"
      }
    },
    {
      "cell_type": "code",
      "source": [
        "# split 예시\n",
        "txt=\"apple#banana#cheery#orange\""
      ],
      "metadata": {
        "id": "rX0ACIGE4ZCa"
      },
      "execution_count": 62,
      "outputs": []
    },
    {
      "cell_type": "code",
      "source": [
        "# txt의 문자열에 #을 기준으로 잘라서 리스트로 리턴해줌\n",
        "x=txt.split(\"#\")\n",
        "print(x)"
      ],
      "metadata": {
        "colab": {
          "base_uri": "https://localhost:8080/"
        },
        "id": "r6dq5FWc5Zda",
        "outputId": "84e14bec-b6e1-4e42-bd5c-a4653a133e79"
      },
      "execution_count": 64,
      "outputs": [
        {
          "output_type": "stream",
          "name": "stdout",
          "text": [
            "['apple', 'banana', 'cheery', 'orange']\n"
          ]
        }
      ]
    },
    {
      "cell_type": "markdown",
      "source": [
        "---"
      ],
      "metadata": {
        "id": "owpY1hwN5kgR"
      }
    },
    {
      "cell_type": "code",
      "source": [
        "# 실습 1-1: 이메일 주소 분리하기\n",
        "email=\"user@example.com\"\n",
        "E=email.split(\"@\")\n",
        "print(E)"
      ],
      "metadata": {
        "colab": {
          "base_uri": "https://localhost:8080/"
        },
        "id": "RIDA0ybq5gIb",
        "outputId": "0233b26a-22a1-4e43-945a-950fc8ca59d0"
      },
      "execution_count": 69,
      "outputs": [
        {
          "output_type": "stream",
          "name": "stdout",
          "text": [
            "['user', 'example.com']\n"
          ]
        }
      ]
    },
    {
      "cell_type": "code",
      "source": [
        "# 새롭게 지정된 E 라는 리스트에 사용자명에 해당하는 인덱스 0, 도메인에 해당하는 인덱스 1 넣고 print\n",
        "print(f\"사용자명:{E[0]}, 도메인{E[1]}\")"
      ],
      "metadata": {
        "colab": {
          "base_uri": "https://localhost:8080/"
        },
        "id": "pMgslIvJ6LS6",
        "outputId": "7b1676e0-fc9b-430b-a84b-8e12bb2ae702"
      },
      "execution_count": 70,
      "outputs": [
        {
          "output_type": "stream",
          "name": "stdout",
          "text": [
            "사용자명:user, 도메인example.com\n"
          ]
        }
      ]
    },
    {
      "cell_type": "code",
      "source": [
        "# 실습 1-2: CSV 형식 데이터 처리\n",
        "csv_data=\"김철수,30,서울,개발자\"\n",
        "DATA=csv_data.split(\",\")\n",
        "print(f\"분리된 데이터: {DATA}\")"
      ],
      "metadata": {
        "colab": {
          "base_uri": "https://localhost:8080/"
        },
        "id": "38xmm-6d6Up6",
        "outputId": "9efa0c82-fc30-4f5e-8bad-ef44863586bf"
      },
      "execution_count": 71,
      "outputs": [
        {
          "output_type": "stream",
          "name": "stdout",
          "text": [
            "분리된 데이터: ['김철수', '30', '서울', '개발자']\n"
          ]
        }
      ]
    },
    {
      "cell_type": "code",
      "source": [
        "# 실습 1-3: 경로 조합하기\n",
        "folders=[\"home\",\"user\",\"documents\",\"project\"]\n",
        "waybackhome=' '.join(folders)\n",
        "print(f\"경로: {waybackhome}\")"
      ],
      "metadata": {
        "colab": {
          "base_uri": "https://localhost:8080/"
        },
        "id": "493h-nbt6yWK",
        "outputId": "909f7030-76b6-4db7-e9c9-fb72c5f01d6b"
      },
      "execution_count": 76,
      "outputs": [
        {
          "output_type": "stream",
          "name": "stdout",
          "text": [
            "경로: home user documents project\n"
          ]
        }
      ]
    },
    {
      "cell_type": "code",
      "source": [
        "# 실습 1-4: 단어를 문장으로 만들기\n",
        "worlds=[\"Python\",\"is\",\"awesome\"]\n",
        "WORLDS=' '.join(worlds)\n",
        "print(f\"문장: {WORLDS}\")"
      ],
      "metadata": {
        "colab": {
          "base_uri": "https://localhost:8080/"
        },
        "id": "IHgeiONt7LD7",
        "outputId": "1adf0fb2-eb0f-4fdb-c58a-f8fc295083ce"
      },
      "execution_count": 73,
      "outputs": [
        {
          "output_type": "stream",
          "name": "stdout",
          "text": [
            "문장: Python is awesome\n"
          ]
        }
      ]
    },
    {
      "cell_type": "markdown",
      "source": [
        "---\n",
        "---\n",
        "---\n",
        "**한줄로 적는 리스트**\n",
        "\n",
        "가독성을 떨어지지만 코드 여러줄 안적어도 됨"
      ],
      "metadata": {
        "id": "E8IXXr9m736J"
      }
    },
    {
      "cell_type": "code",
      "source": [
        "# 실습 2-1: 1~20까지 숫자 중 3의 배수만\n",
        "triplenumber=[x for x in range(21) if x%3==0]\n",
        "print(f'3의 배수: {triplenumber}')"
      ],
      "metadata": {
        "colab": {
          "base_uri": "https://localhost:8080/"
        },
        "id": "1ykhrPb67Zpa",
        "outputId": "01932740-ba28-4b0d-b3cb-5419120a3a4c"
      },
      "execution_count": 78,
      "outputs": [
        {
          "output_type": "stream",
          "name": "stdout",
          "text": [
            "3의 배수: [0, 3, 6, 9, 12, 15, 18]\n"
          ]
        }
      ]
    },
    {
      "cell_type": "code",
      "source": [
        "# 실습 2-2 : 문자열 리스트를 대문자로 변환\n",
        "fruits=[\"apple\",\"banana\",\"cherry\"]\n",
        "uppercase_fruits = [fruit.upper() for fruit in fruits]\n",
        "print(f'대문자 과일 : {uppercase_fruits}')"
      ],
      "metadata": {
        "colab": {
          "base_uri": "https://localhost:8080/"
        },
        "id": "Dq8z7rkV8pBq",
        "outputId": "8ac7de12-ece4-4de0-922c-e5cff8ddf2b7"
      },
      "execution_count": 80,
      "outputs": [
        {
          "output_type": "stream",
          "name": "stdout",
          "text": [
            "대문자 과일 : ['APPLE', 'BANANA', 'CHERRY']\n"
          ]
        }
      ]
    },
    {
      "cell_type": "markdown",
      "source": [
        "---\n",
        "---\n",
        "---\n",
        "**enumerate & zip**"
      ],
      "metadata": {
        "id": "uFp0o5hc97Cx"
      }
    },
    {
      "cell_type": "code",
      "source": [
        "# enumerate가 자동으로 idx에 0,1,2를 부여\n",
        "for idx,fruits in enumerate(fruits):\n",
        "  print(idx,fruits)"
      ],
      "metadata": {
        "colab": {
          "base_uri": "https://localhost:8080/"
        },
        "id": "asVwJc0l9WCq",
        "outputId": "f99b2796-671e-4c10-df4d-0ce13c7cfd49"
      },
      "execution_count": 83,
      "outputs": [
        {
          "output_type": "stream",
          "name": "stdout",
          "text": [
            "0 c\n",
            "1 h\n",
            "2 e\n",
            "3 r\n",
            "4 r\n",
            "5 y\n"
          ]
        }
      ]
    },
    {
      "cell_type": "code",
      "source": [
        "# 실습3-1: enumerate로 순위 매기기\n",
        "scores=[95,87,92,88]\n",
        "print(\"성적순위\")\n",
        "for rank,score in enumerate(scores):\n",
        "  print(f'{rank}등:{score}점')"
      ],
      "metadata": {
        "colab": {
          "base_uri": "https://localhost:8080/"
        },
        "id": "LHUjRL4z-hP6",
        "outputId": "6148f828-7eba-4243-908f-5f27a348b7d4"
      },
      "execution_count": 86,
      "outputs": [
        {
          "output_type": "stream",
          "name": "stdout",
          "text": [
            "성적순위\n",
            "0등:95점\n",
            "1등:87점\n",
            "2등:92점\n",
            "3등:88점\n"
          ]
        }
      ]
    },
    {
      "cell_type": "code",
      "source": [
        "# 실습 3-3: 딕셔너리 생성 (zip 활용)\n",
        "keys = [\"name\", \"age\", \"city\"]\n",
        "values = [\"홍길동\", 25, \"부산\"]\n",
        "\n",
        "for key,value in zip(keys,values):\n",
        "  print(key,value)"
      ],
      "metadata": {
        "colab": {
          "base_uri": "https://localhost:8080/"
        },
        "id": "6FhklHA7-1vd",
        "outputId": "3e70f35b-b67e-4e96-9a10-ccc3e8f71d1f"
      },
      "execution_count": 89,
      "outputs": [
        {
          "output_type": "stream",
          "name": "stdout",
          "text": [
            "name 홍길동\n",
            "age 25\n",
            "city 부산\n"
          ]
        }
      ]
    },
    {
      "cell_type": "code",
      "source": [
        "# 실습 3-3: 딕셔너리 생성 (요건 dict 활용한 복붙)\n",
        "keys = [\"name\", \"age\", \"city\"]\n",
        "values = [\"홍길동\", 25, \"부산\"]\n",
        "\n",
        "# zip으로 묶은 후 dict() 함수를 사용하여 딕셔너리 생성\n",
        "person_dict = dict(zip(keys, values))\n",
        "\n",
        "# 생성된 딕셔너리 출력\n",
        "print(f\"\\n딕셔너리: {person_dict}\")\n",
        "\n",
        "print(\"\\n\" + \"=\" * 60)\n",
        "print(\"4. lambda & map - 함수를 작고 유연하게\")\n",
        "print(\"=\" * 60)"
      ],
      "metadata": {
        "colab": {
          "base_uri": "https://localhost:8080/"
        },
        "id": "M9BTGDP1_j2a",
        "outputId": "26898012-0f41-4c1b-abd2-b539bb4f585e"
      },
      "execution_count": 90,
      "outputs": [
        {
          "output_type": "stream",
          "name": "stdout",
          "text": [
            "\n",
            "딕셔너리: {'name': '홍길동', 'age': 25, 'city': '부산'}\n",
            "\n",
            "============================================================\n",
            "4. lambda & map - 함수를 작고 유연하게\n",
            "============================================================\n"
          ]
        }
      ]
    },
    {
      "cell_type": "markdown",
      "source": [
        "---\n",
        "---\n",
        "---\n",
        "**lamda & map**\n"
      ],
      "metadata": {
        "id": "LA9YS_akAKDB"
      }
    },
    {
      "cell_type": "code",
      "source": [
        "# 실습 4-1: 섭씨를 화씨로 변환\n",
        "# lamda가 아니라 lam'b'da\n",
        "celsius = [0, 10, 20, 30, 40]\n",
        "F=list(map(lambda x:x*1.8+32,celsius))\n",
        "print(f'화씨 온도 : {F}')"
      ],
      "metadata": {
        "colab": {
          "base_uri": "https://localhost:8080/"
        },
        "id": "0fwTbgqX_3G6",
        "outputId": "62a08730-9d3e-4801-a850-68b54da15fc0"
      },
      "execution_count": 94,
      "outputs": [
        {
          "output_type": "stream",
          "name": "stdout",
          "text": [
            "화씨 온도 : [32.0, 50.0, 68.0, 86.0, 104.0]\n"
          ]
        }
      ]
    },
    {
      "cell_type": "markdown",
      "source": [
        "새로운 리스트 명 = list (map ( lambda 변수: 변수에 넣을 식, 기존 리스트))\n",
        "\n",
        "---\n",
        "\n",
        "\n",
        "**원하는 것만 골라내기**"
      ],
      "metadata": {
        "id": "ERgI0TLuB865"
      }
    },
    {
      "cell_type": "code",
      "source": [
        "# filter도 map이랑 구조 똑같\n",
        "# 실습 5-1: 양수만 필터링\n",
        "numbers = [-5, 3, -1, 8, 0, -3, 7]\n",
        "positive=list(filter(lambda x:x>0, numbers))\n",
        "print(f' 양수: {positive}')"
      ],
      "metadata": {
        "colab": {
          "base_uri": "https://localhost:8080/"
        },
        "id": "UqWFdi5DBVzq",
        "outputId": "107eded6-85e4-440a-ea78-ae9122ad1ed6"
      },
      "execution_count": 96,
      "outputs": [
        {
          "output_type": "stream",
          "name": "stdout",
          "text": [
            " 양수: [3, 8, 7]\n"
          ]
        }
      ]
    },
    {
      "cell_type": "markdown",
      "source": [
        "새로운 리스트 명 = list (filter ( lambda 변수: 변수에 넣을 식, 기존 리스트))\n",
        "\n",
        "---"
      ],
      "metadata": {
        "id": "ZpcAb0iKDBT5"
      }
    },
    {
      "cell_type": "code",
      "source": [],
      "metadata": {
        "id": "mjygg_KVC5G5"
      },
      "execution_count": null,
      "outputs": []
    }
  ]
}